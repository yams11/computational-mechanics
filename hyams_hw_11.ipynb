{
  "cells": [
    {
      "cell_type": "markdown",
      "metadata": {
        "id": "view-in-github",
        "colab_type": "text"
      },
      "source": [
        "<a href=\"https://colab.research.google.com/github/yams11/computational-mechanics/blob/master/hyams_hw_11.ipynb\" target=\"_parent\"><img src=\"https://colab.research.google.com/assets/colab-badge.svg\" alt=\"Open In Colab\"/></a>"
      ]
    },
    {
      "cell_type": "markdown",
      "id": "0f15dbd0",
      "metadata": {
        "id": "0f15dbd0"
      },
      "source": [
        "> __Content modified under Creative Commons Attribution license CC-BY\n",
        "> 4.0, code under BSD 3-Clause License © 2020 R.C. Cooper__"
      ]
    },
    {
      "cell_type": "markdown",
      "id": "a313624c",
      "metadata": {
        "id": "a313624c"
      },
      "source": [
        "# Homework\n",
        "\n",
        "## Problems [Part 1](./01_Interacting_with_Python.md)\n",
        "\n",
        "1. Calculate some properties of a rectangular box that is 12.5\"$\\times$11\"$\\times$14\" and weighs 31 lbs\n",
        "\n",
        "    a. What is the volume of the box?\n",
        "    \n",
        "    b. What is the average density of the box?\n",
        "    \n",
        "    c. What is the result of the following logical operation, `volume>1000` (in inches^3)"
      ]
    },
    {
      "cell_type": "code",
      "execution_count": 30,
      "id": "fab294dc",
      "metadata": {
        "colab": {
          "base_uri": "https://localhost:8080/"
        },
        "id": "fab294dc",
        "outputId": "b070e16c-d0c1-4e86-c4e6-a29013466d22"
      },
      "outputs": [
        {
          "output_type": "stream",
          "name": "stdout",
          "text": [
            "a. \n",
            "1925.0\n",
            "b. \n",
            "0.016103896103896103\n",
            "c. \n",
            "True\n"
          ]
        }
      ],
      "source": [
        "print('a. ')\n",
        "print(12.5*11*14)# = 1925.0\n",
        "print('b. ')\n",
        "print(31/1925) # = 0.01610 \n",
        "print('c. ')\n",
        "print(1925>1000) #true"
      ]
    },
    {
      "cell_type": "markdown",
      "id": "5f259689",
      "metadata": {
        "id": "5f259689"
      },
      "source": [
        "2. Use the variables given below, `str1` and `str2`, and check the following \n",
        "\n",
        "    a. `str1<str2`\n",
        "    \n",
        "    b. `str1==str2`\n",
        "    \n",
        "    c. `str1>str2`\n",
        "    \n",
        "    d. How could you force (b) to be true? [Hint](https://docs.python.org/3/library/stdtypes.html?highlight=str.lower#str.lower) or [Hint](https://docs.python.org/3/library/stdtypes.html?highlight=str.lower#str.upper)"
      ]
    },
    {
      "cell_type": "code",
      "execution_count": 31,
      "id": "e74709ff",
      "metadata": {
        "colab": {
          "base_uri": "https://localhost:8080/",
          "height": 191
        },
        "id": "e74709ff",
        "outputId": "950f29b8-69d6-4673-8755-c59952cbf7eb"
      },
      "outputs": [
        {
          "output_type": "stream",
          "name": "stdout",
          "text": [
            "a.\n",
            "True\n",
            "b.\n",
            "False\n",
            "c.\n",
            "False\n",
            "d.\n"
          ]
        },
        {
          "output_type": "execute_result",
          "data": {
            "text/plain": [
              "'One could force b to be true if string operations that look only \\nfor the string to be full of letters regardless of case or string \\nlength was used. This includes str.isalpha(), str.isprintable(), str.ljust(width[,fillchar]).'"
            ],
            "application/vnd.google.colaboratory.intrinsic+json": {
              "type": "string"
            }
          },
          "metadata": {},
          "execution_count": 31
        }
      ],
      "source": [
        "str1 = 'Python'\n",
        "str2 = 'python'\n",
        "print('a.') \n",
        "print(str1<str2) #true\n",
        "print('b.') \n",
        "print(str1==str2) #false\n",
        "print('c.') \n",
        "print(str1>str2) #false\n",
        "print('d.') \n",
        "'''One could force b to be true if string operations that look only \n",
        "for the string to be full of letters regardless of case or string \n",
        "length was used. This includes str.isalpha(), str.isprintable(), str.ljust(width[,fillchar]).''' "
      ]
    },
    {
      "cell_type": "markdown",
      "id": "a3cc781b",
      "metadata": {
        "id": "a3cc781b"
      },
      "source": [
        "3. The following code has an error, fix the error so that the correct result is returned:\n",
        "\n",
        "```y is 20 and x is less than y```\n",
        "\n",
        "```python\n",
        "x=\"1\"\n",
        "y=20\n",
        "\n",
        "if x<y and y==20:\n",
        "    print('y is 20 and x is less than y')\n",
        "else:\n",
        "    print('x is not less than y')\n",
        "```"
      ]
    },
    {
      "cell_type": "code",
      "execution_count": 32,
      "id": "1b36d236",
      "metadata": {
        "colab": {
          "base_uri": "https://localhost:8080/"
        },
        "id": "1b36d236",
        "outputId": "9131f15b-e47d-4931-f6a8-3c2d34132523"
      },
      "outputs": [
        {
          "output_type": "stream",
          "name": "stdout",
          "text": [
            "y is 20 and x is less than y\n"
          ]
        }
      ],
      "source": [
        "x=1\n",
        "y=20\n",
        "\n",
        "if x<y and y==20:\n",
        "    print('y is 20 and x is less than y')\n",
        "else:\n",
        "    print('x is not less than y')"
      ]
    },
    {
      "cell_type": "markdown",
      "id": "db1bc654",
      "metadata": {
        "id": "db1bc654"
      },
      "source": [
        "4. Create a script that takes the clock hour in 24 hours and prints the clock hour with am or pm. \n",
        "\n",
        "    Hint: Use an if-else statement with `print` commands"
      ]
    },
    {
      "cell_type": "code",
      "execution_count": 34,
      "id": "c98e2df3",
      "metadata": {
        "colab": {
          "base_uri": "https://localhost:8080/"
        },
        "id": "c98e2df3",
        "outputId": "20434d57-d4a1-4775-9447-d6142eff2a6d"
      },
      "outputs": [
        {
          "output_type": "stream",
          "name": "stdout",
          "text": [
            "10 PM\n"
          ]
        }
      ],
      "source": [
        "time = 22\n",
        "#if time is greater than 12 in the 24 hours clock, then subtracting 12 from that \n",
        "#number will translate the number on a 12 hour clock in pm.''''\n",
        "if time > 12:\n",
        "    print(time - 12, 'PM')\n",
        "#if the time is less than then the time is considered in am.'''\n",
        "elif time < 12:\n",
        "    print(time, 'AM')"
      ]
    },
    {
      "cell_type": "code",
      "execution_count": null,
      "id": "d95720a7",
      "metadata": {
        "id": "d95720a7"
      },
      "outputs": [],
      "source": [
        ""
      ]
    },
    {
      "cell_type": "markdown",
      "id": "af5df5a1",
      "metadata": {
        "id": "af5df5a1"
      },
      "source": [
        "## Problems [Part 2](./02_Working_with_Python.md)\n",
        "\n",
        "1. Create a function called `sincos(x)` that returns two arrays, `sinx` and `cosx` that return the sine and cosine of the input array, `x`. \n",
        "\n",
        "    a. Document your function with a help file in `'''help'''`\n",
        "    \n",
        "    b. Use your function to plot sin(x) and cos(x) for x=$0..2\\pi$"
      ]
    },
    {
      "cell_type": "code",
      "execution_count": 35,
      "id": "658f6b16",
      "metadata": {
        "colab": {
          "base_uri": "https://localhost:8080/",
          "height": 275
        },
        "id": "658f6b16",
        "outputId": "18c111bd-c68a-4c56-9fb1-bc9b8b04b1b9"
      },
      "outputs": [
        {
          "output_type": "display_data",
          "data": {
            "text/plain": [
              "<Figure size 432x288 with 1 Axes>"
            ],
            "image/png": "[encoded data removed]"
          },
          "metadata": {
            "needs_background": "light"
          }
        }
      ],
      "source": [
        "import numpy as np\n",
        "import matplotlib.pyplot as plt\n",
        "def sincos(x):\n",
        "  '''a funtion that returns the sin and cos values of x using numpy'''\n",
        "  sinx=np.sin(x)\n",
        "  cosx=np.cos(x)\n",
        "  return sinx, cosx\n",
        "'''assigns x value'''\n",
        "x = np.linspace(0, 2*np.pi)\n",
        "sinx, cosx = sincos(x)\n",
        "'''plots the sinx and cosx functions'''\n",
        "plt.rcParams.update({'font.size': 22})\n",
        "plt.rcParams['lines.linewidth'] = 3\n",
        "plt.plot(x, sinx, color='k', linestyle='-', label='sinx')\n",
        "plt.plot(x, cosx, color='k', linestyle='--', label='cosx')\n",
        "plt.legend(loc='best'); \n",
        "# plt.xlim([0,(2*pi)])"
      ]
    },
    {
      "cell_type": "markdown",
      "id": "86e5cb30",
      "metadata": {
        "id": "86e5cb30"
      },
      "source": [
        "2. Use a for-loop to create a variable called `A_99`, where every element is the product\n",
        "of the two indices from 0 to 9 e.g. A_99[3,2]=6 and A_99[4,4]=16. \n",
        "\n",
        "    a. time your script using `%%time`    \n",
        "    \n",
        "    b. Calculate the mean of `A_99`\n",
        "\n",
        "    c. Calculate the standard deviation of `A_99`"
      ]
    },
    {
      "cell_type": "code",
      "execution_count": 50,
      "id": "c5c13fd7",
      "metadata": {
        "colab": {
          "base_uri": "https://localhost:8080/"
        },
        "id": "c5c13fd7",
        "outputId": "7c938c94-8c97-4f92-84f2-17c25a816319"
      },
      "outputs": [
        {
          "output_type": "stream",
          "name": "stdout",
          "text": [
            "[[0, 0, 0, 0, 0, 0, 0, 0, 0, 0], [0, 1, 2, 3, 4, 5, 6, 7, 8, 9], [0, 2, 4, 6, 8, 10, 12, 14, 16, 18], [0, 3, 6, 9, 12, 15, 18, 21, 24, 27], [0, 4, 8, 12, 16, 20, 24, 28, 32, 36], [0, 5, 10, 15, 20, 25, 30, 35, 40, 45], [0, 6, 12, 18, 24, 30, 36, 42, 48, 54], [0, 7, 14, 21, 28, 35, 42, 49, 56, 63], [0, 8, 16, 24, 32, 40, 48, 56, 64, 72], [0, 9, 18, 27, 36, 45, 54, 63, 72, 81]]\n",
            "The mean is 22.5\n",
            "The Standard Deviation is 63.81614215854794\n",
            "CPU times: user 4.32 ms, sys: 0 ns, total: 4.32 ms\n",
            "Wall time: 4.34 ms\n"
          ]
        }
      ],
      "source": [
        "%%time\n",
        "'''a. this runs the time script to measure the time it takes to run the cell'''\n",
        "#Initally creating the for loop I used indexing and mulitply to find the A_99 array, but was given indexing errors. I am unsure if allowed to use this but I found away to accomplish creating A_99 using the append array function.'''\n",
        "A_99=[]\n",
        "x_array=[]\n",
        "for x in range(0,10):\n",
        "  x_array=[]\n",
        "  for y in range(0,10):\n",
        "    x_array.append(x*y)\n",
        "  A_99.append(x_array)\n",
        "#b. Calculating the mean of A_99 using for loops:The mean is equal to 0 plus all the elements in A_99 and then it isdivided by the lenth (or number of elements) of A_99'''\n",
        "mean=0\n",
        "for x in A_99:\n",
        "  for y in x:\n",
        "    mean += y\n",
        "mean = mean/(len(A_99)*9)\n",
        "#c. Calculating the standard deviation of A_99 using for loops:\n",
        "        #The numerator of the standard deviation equation is found by squaring \n",
        "        #the difference of all the elements in A_99 by the mean and then all \n",
        "        #elements are added together. This is then divided by the lenth of A_99\n",
        "        #and square rooted.'''\n",
        "stdev=0\n",
        "num=0\n",
        "sum_num=0\n",
        "for x in A_99:\n",
        "  for y in x:\n",
        "    num=(y-mean)**2\n",
        "    sum_num += num\n",
        "stdev=(sum_num/len(A_99))**(1/2)\n",
        "print(A_99)\n",
        "print('The mean is',mean)\n",
        "print('The Standard Deviation is', stdev)"
      ]
    },
    {
      "cell_type": "markdown",
      "id": "282be16a",
      "metadata": {
        "id": "282be16a"
      },
      "source": [
        "3. Use the two arrays, X and Y, given below to create A_99 using numpy array math rather than a for-loop."
      ]
    },
    {
      "cell_type": "code",
      "execution_count": 40,
      "id": "d0b19bff",
      "metadata": {
        "id": "d0b19bff"
      },
      "outputs": [],
      "source": [
        "X, Y = np.meshgrid(np.arange(10), np.arange(10))"
      ]
    },
    {
      "cell_type": "markdown",
      "id": "6792dc77",
      "metadata": {
        "id": "6792dc77"
      },
      "source": [
        "    a. time your script using `%%time`    \n",
        "    \n",
        "    b. Calculate the mean of `A_99`\n",
        "\n",
        "    c. Calculate the standard deviation of `A_99`\n",
        "        \n",
        "    d. create a filled contour plot of X, Y, A_99 [contourf plot documentation](https://matplotlib.org/3.1.1/api/_as_gen/matplotlib.pyplot.contourf.html)"
      ]
    },
    {
      "cell_type": "code",
      "execution_count": 51,
      "id": "27070025",
      "metadata": {
        "id": "27070025",
        "colab": {
          "base_uri": "https://localhost:8080/",
          "height": 1000
        },
        "outputId": "41e60dea-1915-40b9-e1e1-e281f76a90cc"
      },
      "outputs": [
        {
          "output_type": "stream",
          "name": "stdout",
          "text": [
            "[[ 0  0  0  0  0  0  0  0  0  0]\n",
            " [ 0  1  2  3  4  5  6  7  8  9]\n",
            " [ 0  2  4  6  8 10 12 14 16 18]\n",
            " [ 0  3  6  9 12 15 18 21 24 27]\n",
            " [ 0  4  8 12 16 20 24 28 32 36]\n",
            " [ 0  5 10 15 20 25 30 35 40 45]\n",
            " [ 0  6 12 18 24 30 36 42 48 54]\n",
            " [ 0  7 14 21 28 35 42 49 56 63]\n",
            " [ 0  8 16 24 32 40 48 56 64 72]\n",
            " [ 0  9 18 27 36 45 54 63 72 81]]\n",
            "The Mean is 20.25\n",
            "The Standard Deviation is 20.054612935681405\n",
            "CPU times: user 56.4 ms, sys: 900 µs, total: 57.3 ms\n",
            "Wall time: 57.6 ms\n"
          ]
        },
        {
          "output_type": "display_data",
          "data": {
            "text/plain": [
              "<Figure size 432x288 with 1 Axes>"
            ],
            "image/png": "[encoded data removed]"
          },
          "metadata": {
            "needs_background": "light"
          }
        }
      ],
      "source": [
        "%%time\n",
        "'''a. calculates the time to run the script'''\n",
        "import numpy as np\n",
        "import matplotlib.pyplot as plt\n",
        "'''Creating A_99 using numpy math'''\n",
        "A_99=[]\n",
        "A_99=X*Y\n",
        "'''b. Calculating the mean of A_99 using numpy'''\n",
        "mean=np.mean(A_99)\n",
        "'''c. Calculating the standard deviation of A_99 using numpy'''\n",
        "stdev=np.std(A_99)\n",
        "print(A_99)\n",
        "print('The Mean is', mean)\n",
        "print('The Standard Deviation is',stdev)\n",
        "'''d. Creating a countour plot of X,Y, and A_99'''\n",
        "plt.rcParams.update({'font.size': 22})\n",
        "plt.rcParams['lines.linewidth'] = 3\n",
        "plt.plot(X, color='k', linestyle='-', label='X')\n",
        "plt.plot(Y, color='k', linestyle='--', label='Y')\n",
        "plt.plot(A_99, color='k', linestyle=':', label='A_99')\n",
        "plt.legend(loc='best'); "
      ]
    },
    {
      "cell_type": "markdown",
      "id": "b9614550",
      "metadata": {
        "id": "b9614550"
      },
      "source": [
        "4. The following linear interpolation function has an error. It is supposed to return y(x) given the the two points $p_1=[x_1,~y_1]$ and $p_2=[x_2,~y_2]$. Currently, it just returns and error.\n",
        "\n",
        "```python\n",
        "def linInterp(x,p1,p2):\n",
        "    '''linear interplation function\n",
        "    return y(x) given the two endpoints \n",
        "    p1=np.array([x1,y1])\n",
        "    and\n",
        "    p2=np.array([x2,y2])'''\n",
        "    slope = (p2[2]-p1[2])/(p2[1]-p1[1])\n",
        "    \n",
        "    return p1[2]+slope*(x - p1[1])\n",
        "```"
      ]
    },
    {
      "cell_type": "code",
      "execution_count": 46,
      "id": "61a571e8",
      "metadata": {
        "id": "61a571e8"
      },
      "outputs": [],
      "source": [
        "def linInterp(x,p1,p2):\n",
        "#The error was the index was out of range because listing starts at 0, not 1. \n",
        "#Therefore the 2's needed to be changed to 1's and 1's needed to be changed to 0's.'''\n",
        "    \n",
        "    slope = (p2[1]-p1[1])/(p2[0]-p1[0])\n",
        "\n",
        "    return p1[1]+slope*(x - p1[0])"
      ]
    },
    {
      "cell_type": "markdown",
      "id": "e918807f",
      "metadata": {
        "id": "e918807f"
      },
      "source": [
        "## Problems [Part 3](03_Numerical_error.md)\n",
        "\n",
        "1. The growth of populations of organisms has many engineering and scientific applications. One of the simplest\n",
        "models assumes that the rate of change of the population p is proportional to the existing population at any time t:\n",
        "\n",
        "$\\frac{dp}{dt} = k_g p$\n",
        "\n",
        "where $t$ is time in years, and $k_g$ is growth rate in \\[1/years\\]. \n",
        "\n",
        "The world population has been increasing dramatically, let's make a prediction based upon the [following data](https://worldpopulationhistory.org/map/2020/mercator/1/0/25/) saved in [world_population_1900-2020.csv](../data/world_population_1900-2020.csv):\n",
        "\n",
        "\n",
        "|year| world population |\n",
        "|---|---|\n",
        "|1900|1,578,000,000|\n",
        "|1950|2,526,000,000|\n",
        "|2000|6,127,000,000|\n",
        "|2020|7,795,482,000|\n",
        "\n",
        "a. Use a growth rate of $k_g=0.013$ [1/years] and compare the analytical solution (use initial condition p(1900) = 1578000000) to the Euler integration for time steps of 20 years from 1900 to 2020 (Hint: use method (1)- plot the two solutions together with the given data) \n",
        "\n",
        "b. Discussion question: If you decrease the time steps further and the solution converges, will it converge to the actual world population? Why or why not? \n",
        "\n",
        "**Note: We have used a new function `np.loadtxt` here. Use the `help` or `?` to learn about what this function does and how the arguments can change the output. In the next module, we will go into more details on how to load data, plot data, and present trends.**"
      ]
    },
    {
      "cell_type": "code",
      "execution_count": 47,
      "id": "36d84ac1",
      "metadata": {
        "id": "36d84ac1",
        "colab": {
          "base_uri": "https://localhost:8080/"
        },
        "outputId": "b5f8f3ab-185b-45d6-bbc3-b5409631e785"
      },
      "outputs": [
        {
          "output_type": "stream",
          "name": "stdout",
          "text": [
            "years= [1900 1950 2000 2020]\n",
            "population = [1578000000 2526000000 6127000000 7795482000]\n"
          ]
        }
      ],
      "source": [
        "import numpy as np\n",
        "import matplotlib.pyplot as plt\n",
        "#year, pop = np.loadtxt(\"../data/world_population_1900-2020.csv\",skiprows=1,delimiter= ',',unpack=True)\n",
        "'''recieved errors trying to find the file using np.loadtxt, I am unsure how to fix, so \n",
        "  I commented it out and manualling inputted the data.'''\n",
        "year=np.array([1900,1950,2000,2020])\n",
        "pop=np.array([1578000000,2526000000,6127000000,7795482000])\n",
        "print('years=',year)\n",
        "print('population =', pop)"
      ]
    },
    {
      "cell_type": "code",
      "execution_count": 48,
      "id": "9c182919",
      "metadata": {
        "id": "9c182919",
        "colab": {
          "base_uri": "https://localhost:8080/",
          "height": 729
        },
        "outputId": "f490abb9-17cc-43eb-b0e6-2ac95876e46b"
      },
      "outputs": [
        {
          "output_type": "stream",
          "name": "stdout",
          "text": [
            "average population changes 1900-1950, 1950-2000, 2000-2020\n",
            "[18960000. 72020000. 83424100.]\n",
            "average growth of 1900 - 2020\n",
            "58134700.0\n",
            "Analytical Solution= 410280000.0\n"
          ]
        },
        {
          "output_type": "error",
          "ename": "ValueError",
          "evalue": "ignored",
          "traceback": [
            "\u001b[0;31m---------------------------------------------------------------------------\u001b[0m",
            "\u001b[0;31mValueError\u001b[0m                                Traceback (most recent call last)",
            "\u001b[0;32m<ipython-input-48-2f94bae6b99f>\u001b[0m in \u001b[0;36m<module>\u001b[0;34m()\u001b[0m\n\u001b[1;32m     21\u001b[0m \u001b[0mplt\u001b[0m\u001b[0;34m.\u001b[0m\u001b[0mrcParams\u001b[0m\u001b[0;34m.\u001b[0m\u001b[0mupdate\u001b[0m\u001b[0;34m(\u001b[0m\u001b[0;34m{\u001b[0m\u001b[0;34m'font.size'\u001b[0m\u001b[0;34m:\u001b[0m \u001b[0;36m22\u001b[0m\u001b[0;34m}\u001b[0m\u001b[0;34m)\u001b[0m\u001b[0;34m\u001b[0m\u001b[0;34m\u001b[0m\u001b[0m\n\u001b[1;32m     22\u001b[0m \u001b[0mplt\u001b[0m\u001b[0;34m.\u001b[0m\u001b[0mrcParams\u001b[0m\u001b[0;34m[\u001b[0m\u001b[0;34m'lines.linewidth'\u001b[0m\u001b[0;34m]\u001b[0m \u001b[0;34m=\u001b[0m \u001b[0;36m3\u001b[0m\u001b[0;34m\u001b[0m\u001b[0;34m\u001b[0m\u001b[0m\n\u001b[0;32m---> 23\u001b[0;31m \u001b[0mplt\u001b[0m\u001b[0;34m.\u001b[0m\u001b[0mplot\u001b[0m\u001b[0;34m(\u001b[0m\u001b[0mt\u001b[0m\u001b[0;34m,\u001b[0m\u001b[0mdp\u001b[0m\u001b[0;34m,\u001b[0m\u001b[0;34m'-'\u001b[0m\u001b[0;34m,\u001b[0m\u001b[0mlabel\u001b[0m\u001b[0;34m=\u001b[0m\u001b[0;34m'analytical'\u001b[0m\u001b[0;34m)\u001b[0m\u001b[0;34m\u001b[0m\u001b[0;34m\u001b[0m\u001b[0m\n\u001b[0m\u001b[1;32m     24\u001b[0m \u001b[0mplt\u001b[0m\u001b[0;34m.\u001b[0m\u001b[0mplot\u001b[0m\u001b[0;34m(\u001b[0m\u001b[0mt\u001b[0m\u001b[0;34m,\u001b[0m\u001b[0mpop_change\u001b[0m\u001b[0;34m,\u001b[0m\u001b[0;34m'o-'\u001b[0m\u001b[0;34m,\u001b[0m\u001b[0mlabel\u001b[0m\u001b[0;34m=\u001b[0m\u001b[0;34m'euler'\u001b[0m\u001b[0;34m)\u001b[0m\u001b[0;34m\u001b[0m\u001b[0;34m\u001b[0m\u001b[0m\n\u001b[1;32m     25\u001b[0m \u001b[0mplt\u001b[0m\u001b[0;34m.\u001b[0m\u001b[0mlegend\u001b[0m\u001b[0;34m(\u001b[0m\u001b[0;34m)\u001b[0m\u001b[0;34m\u001b[0m\u001b[0;34m\u001b[0m\u001b[0m\n",
            "\u001b[0;32m/usr/local/lib/python3.7/dist-packages/matplotlib/pyplot.py\u001b[0m in \u001b[0;36mplot\u001b[0;34m(scalex, scaley, data, *args, **kwargs)\u001b[0m\n\u001b[1;32m   2761\u001b[0m     return gca().plot(\n\u001b[1;32m   2762\u001b[0m         *args, scalex=scalex, scaley=scaley, **({\"data\": data} if data\n\u001b[0;32m-> 2763\u001b[0;31m         is not None else {}), **kwargs)\n\u001b[0m\u001b[1;32m   2764\u001b[0m \u001b[0;34m\u001b[0m\u001b[0m\n\u001b[1;32m   2765\u001b[0m \u001b[0;34m\u001b[0m\u001b[0m\n",
            "\u001b[0;32m/usr/local/lib/python3.7/dist-packages/matplotlib/axes/_axes.py\u001b[0m in \u001b[0;36mplot\u001b[0;34m(self, scalex, scaley, data, *args, **kwargs)\u001b[0m\n\u001b[1;32m   1645\u001b[0m         \"\"\"\n\u001b[1;32m   1646\u001b[0m         \u001b[0mkwargs\u001b[0m \u001b[0;34m=\u001b[0m \u001b[0mcbook\u001b[0m\u001b[0;34m.\u001b[0m\u001b[0mnormalize_kwargs\u001b[0m\u001b[0;34m(\u001b[0m\u001b[0mkwargs\u001b[0m\u001b[0;34m,\u001b[0m \u001b[0mmlines\u001b[0m\u001b[0;34m.\u001b[0m\u001b[0mLine2D\u001b[0m\u001b[0;34m)\u001b[0m\u001b[0;34m\u001b[0m\u001b[0;34m\u001b[0m\u001b[0m\n\u001b[0;32m-> 1647\u001b[0;31m         \u001b[0mlines\u001b[0m \u001b[0;34m=\u001b[0m \u001b[0;34m[\u001b[0m\u001b[0;34m*\u001b[0m\u001b[0mself\u001b[0m\u001b[0;34m.\u001b[0m\u001b[0m_get_lines\u001b[0m\u001b[0;34m(\u001b[0m\u001b[0;34m*\u001b[0m\u001b[0margs\u001b[0m\u001b[0;34m,\u001b[0m \u001b[0mdata\u001b[0m\u001b[0;34m=\u001b[0m\u001b[0mdata\u001b[0m\u001b[0;34m,\u001b[0m \u001b[0;34m**\u001b[0m\u001b[0mkwargs\u001b[0m\u001b[0;34m)\u001b[0m\u001b[0;34m]\u001b[0m\u001b[0;34m\u001b[0m\u001b[0;34m\u001b[0m\u001b[0m\n\u001b[0m\u001b[1;32m   1648\u001b[0m         \u001b[0;32mfor\u001b[0m \u001b[0mline\u001b[0m \u001b[0;32min\u001b[0m \u001b[0mlines\u001b[0m\u001b[0;34m:\u001b[0m\u001b[0;34m\u001b[0m\u001b[0;34m\u001b[0m\u001b[0m\n\u001b[1;32m   1649\u001b[0m             \u001b[0mself\u001b[0m\u001b[0;34m.\u001b[0m\u001b[0madd_line\u001b[0m\u001b[0;34m(\u001b[0m\u001b[0mline\u001b[0m\u001b[0;34m)\u001b[0m\u001b[0;34m\u001b[0m\u001b[0;34m\u001b[0m\u001b[0m\n",
            "\u001b[0;32m/usr/local/lib/python3.7/dist-packages/matplotlib/axes/_base.py\u001b[0m in \u001b[0;36m__call__\u001b[0;34m(self, *args, **kwargs)\u001b[0m\n\u001b[1;32m    214\u001b[0m                 \u001b[0mthis\u001b[0m \u001b[0;34m+=\u001b[0m \u001b[0margs\u001b[0m\u001b[0;34m[\u001b[0m\u001b[0;36m0\u001b[0m\u001b[0;34m]\u001b[0m\u001b[0;34m,\u001b[0m\u001b[0;34m\u001b[0m\u001b[0;34m\u001b[0m\u001b[0m\n\u001b[1;32m    215\u001b[0m                 \u001b[0margs\u001b[0m \u001b[0;34m=\u001b[0m \u001b[0margs\u001b[0m\u001b[0;34m[\u001b[0m\u001b[0;36m1\u001b[0m\u001b[0;34m:\u001b[0m\u001b[0;34m]\u001b[0m\u001b[0;34m\u001b[0m\u001b[0;34m\u001b[0m\u001b[0m\n\u001b[0;32m--> 216\u001b[0;31m             \u001b[0;32myield\u001b[0m \u001b[0;32mfrom\u001b[0m \u001b[0mself\u001b[0m\u001b[0;34m.\u001b[0m\u001b[0m_plot_args\u001b[0m\u001b[0;34m(\u001b[0m\u001b[0mthis\u001b[0m\u001b[0;34m,\u001b[0m \u001b[0mkwargs\u001b[0m\u001b[0;34m)\u001b[0m\u001b[0;34m\u001b[0m\u001b[0;34m\u001b[0m\u001b[0m\n\u001b[0m\u001b[1;32m    217\u001b[0m \u001b[0;34m\u001b[0m\u001b[0m\n\u001b[1;32m    218\u001b[0m     \u001b[0;32mdef\u001b[0m \u001b[0mget_next_color\u001b[0m\u001b[0;34m(\u001b[0m\u001b[0mself\u001b[0m\u001b[0;34m)\u001b[0m\u001b[0;34m:\u001b[0m\u001b[0;34m\u001b[0m\u001b[0;34m\u001b[0m\u001b[0m\n",
            "\u001b[0;32m/usr/local/lib/python3.7/dist-packages/matplotlib/axes/_base.py\u001b[0m in \u001b[0;36m_plot_args\u001b[0;34m(self, tup, kwargs)\u001b[0m\n\u001b[1;32m    340\u001b[0m \u001b[0;34m\u001b[0m\u001b[0m\n\u001b[1;32m    341\u001b[0m         \u001b[0;32mif\u001b[0m \u001b[0mx\u001b[0m\u001b[0;34m.\u001b[0m\u001b[0mshape\u001b[0m\u001b[0;34m[\u001b[0m\u001b[0;36m0\u001b[0m\u001b[0;34m]\u001b[0m \u001b[0;34m!=\u001b[0m \u001b[0my\u001b[0m\u001b[0;34m.\u001b[0m\u001b[0mshape\u001b[0m\u001b[0;34m[\u001b[0m\u001b[0;36m0\u001b[0m\u001b[0;34m]\u001b[0m\u001b[0;34m:\u001b[0m\u001b[0;34m\u001b[0m\u001b[0;34m\u001b[0m\u001b[0m\n\u001b[0;32m--> 342\u001b[0;31m             raise ValueError(f\"x and y must have same first dimension, but \"\n\u001b[0m\u001b[1;32m    343\u001b[0m                              f\"have shapes {x.shape} and {y.shape}\")\n\u001b[1;32m    344\u001b[0m         \u001b[0;32mif\u001b[0m \u001b[0mx\u001b[0m\u001b[0;34m.\u001b[0m\u001b[0mndim\u001b[0m \u001b[0;34m>\u001b[0m \u001b[0;36m2\u001b[0m \u001b[0;32mor\u001b[0m \u001b[0my\u001b[0m\u001b[0;34m.\u001b[0m\u001b[0mndim\u001b[0m \u001b[0;34m>\u001b[0m \u001b[0;36m2\u001b[0m\u001b[0;34m:\u001b[0m\u001b[0;34m\u001b[0m\u001b[0;34m\u001b[0m\u001b[0m\n",
            "\u001b[0;31mValueError\u001b[0m: x and y must have same first dimension, but have shapes (20,) and (1,)"
          ]
        },
        {
          "output_type": "display_data",
          "data": {
            "text/plain": [
              "<Figure size 432x288 with 1 Axes>"
            ],
            "image/png": "[encoded data removed]"
          },
          "metadata": {
            "needs_background": "light"
          }
        }
      ],
      "source": [
        "print('average population changes 1900-1950, 1950-2000, 2000-2020')\n",
        "print((pop[1:] - pop[0:-1])/(year[1:] - year[0:-1]))\n",
        "print('average growth of 1900 - 2020')\n",
        "print(np.mean((pop[1:] - pop[0:-1])/(year[1:] - year[0:-1])))\n",
        "'''analytical solution'''\n",
        "k_g=0.013 #[1/years]\n",
        "p=pop[0]\n",
        "dt=20\n",
        "dp=k_g*p*dt\n",
        "print('Analytical Solution=',dp)\n",
        "'''Euler Integration'''\n",
        "t=np.linspace(0,121,20) #the time between 1900 and 2020 with time steps of 20 years \n",
        "\n",
        "pop_change=np.zeros(len(t));\n",
        "pop_change[0]=p\n",
        "for i in range(1,len(t)):\n",
        "    pop_change[i]=pop_change[i-1]+(dp*dt*pop_change[i-1])\n",
        "    '''I recieved this error:\n",
        "        x and y must have same first dimension, but have shapes (20,) and (1,)\n",
        "        and do not know how to fix this.'''\n",
        "plt.rcParams.update({'font.size': 22})\n",
        "plt.rcParams['lines.linewidth'] = 3\n",
        "plt.plot(t,dp,'-',label='analytical')\n",
        "plt.plot(t,pop_change,'o-',label='euler')\n",
        "plt.legend()\n",
        "plt.xlabel('year')\n",
        "plt.ylabel('world population')\n",
        "'''b. \n",
        "    If the time steps are decreased the solution will converge away from the actaul \n",
        "    world population. The more data points found, which is found by increasing time steps, \n",
        "    the more accurate the euler's integration will be to the analytical solution because \n",
        "    it allows for a better representation of the data.'''"
      ]
    },
    {
      "cell_type": "markdown",
      "id": "c7827241",
      "metadata": {
        "id": "c7827241"
      },
      "source": [
        "__d.__ As the number of time steps increases, the Euler approximation approaches the analytical solution, not the measured data. The best-case scenario is that the Euler solution is the same as the analytical solution."
      ]
    },
    {
      "cell_type": "markdown",
      "id": "f8aac560",
      "metadata": {
        "id": "f8aac560"
      },
      "source": [
        "2. In the freefall example you used smaller time steps to decrease the **truncation error** in our Euler approximation. Another way to decrease approximation error is to continue expanding the Taylor series. Consider the function f(x)\n",
        "\n",
        "    $f(x)=e^x = 1+x+\\frac{x^2}{2!}+\\frac{x^3}{3!}+\\frac{x^4}{4!}+...$\n",
        "\n",
        "    We can approximate $e^x$ as $1+x$ (first order), $1+x+x^2/2$ (second order), and so on each higher order results in smaller error. \n",
        "    \n",
        "    a. Use the given `exptaylor` function to approximate the value of exp(1) with a second-order Taylor series expansion. What is the relative error compared to `np.exp(1)`?\n",
        "    \n",
        "    b. Time the solution for a second-order Taylor series and a tenth-order Taylor series. How long would a 100,000-order series take (approximate this, you don't have to run it)\n",
        "    \n",
        "    c. Plot the relative error as a function of the Taylor series expansion order from first order upwards. (Hint: use method (4) in the comparison methods from the \"Truncation and roundoff error accumulation in log-log plot\" figure)"
      ]
    },
    {
      "cell_type": "code",
      "execution_count": 49,
      "id": "e595b38b",
      "metadata": {
        "id": "e595b38b",
        "colab": {
          "base_uri": "https://localhost:8080/",
          "height": 487
        },
        "outputId": "177cd047-a64c-4cd2-be29-910d1820c456"
      },
      "outputs": [
        {
          "output_type": "stream",
          "name": "stdout",
          "text": [
            "The Analytical Error is (2.5, 2)\n",
            "The Numerical Error is 2.718281828459045\n",
            "The Relative Error is [0.08731273 0.35914091]\n",
            "Time for a second order Taylor series= 5.723271\n",
            "Time for a tenth order Taylor series= 5.72366\n"
          ]
        },
        {
          "output_type": "stream",
          "name": "stderr",
          "text": [
            "/usr/local/lib/python3.7/dist-packages/ipykernel_launcher.py:25: DeprecationWarning: time.clock has been deprecated in Python 3.3 and will be removed from Python 3.8: use time.perf_counter or time.process_time instead\n",
            "/usr/local/lib/python3.7/dist-packages/ipykernel_launcher.py:28: DeprecationWarning: time.clock has been deprecated in Python 3.3 and will be removed from Python 3.8: use time.perf_counter or time.process_time instead\n"
          ]
        },
        {
          "output_type": "execute_result",
          "data": {
            "text/plain": [
              "Text(0.5, 1.0, 'Truncation and roundoff error accumulation in log-log plot')"
            ]
          },
          "metadata": {},
          "execution_count": 49
        },
        {
          "output_type": "display_data",
          "data": {
            "text/plain": [
              "<Figure size 432x288 with 1 Axes>"
            ],
            "image/png": "[encoded data removed]"
          },
          "metadata": {
            "needs_background": "light"
          }
        }
      ],
      "source": [
        "import time\n",
        "from math import factorial\n",
        "def exptaylor(x,n):\n",
        "    '''Taylor series expansion about x=0 for the function e^x\n",
        "    the full expansion follows the function\n",
        "    e^x = 1+ x + x**2/2! + x**3/3! + x**4/4! + x**5/5! +...'''\n",
        "    if n<1:\n",
        "        print('lowest order expansion is 0 where e^x = 1')\n",
        "        return 1,n\n",
        "    else:\n",
        "        ex = 1+x # define the first-order taylor series result\n",
        "        for i in range(1,n):\n",
        "            ex+=x**(i+1)/factorial(i+1) # add the nth-order result for each step in loop  \n",
        "        return ex, n\n",
        "        '''a. found the analytical error using exptaylor function and numerical error using np.exp(1)\n",
        "        and used them to find the relative error'''\n",
        "ana_error=exptaylor(1,2)\n",
        "num_error= np.exp(1)\n",
        "rel_error= (num_error-ana_error)/ana_error\n",
        "print('The Analytical Error is', ana_error)\n",
        "print('The Numerical Error is', num_error)\n",
        "print('The Relative Error is', rel_error)\n",
        "'''b. The second and tenth order taylor series were timed by importing time and using the time.clock function. \n",
        "    It would take serveral seconds to run. For 100,000 I am thinking maybe 1.75-2 perhaps.'''\n",
        "second_time=time.clock()\n",
        "second_order=exptaylor(1,2)\n",
        "print('Time for a second order Taylor series=',second_time)\n",
        "tenth_time=time.clock()\n",
        "tenth_order=exptaylor(1,10)\n",
        "print('Time for a tenth order Taylor series=',tenth_time)\n",
        "'''c. plot the log-log error plot'''\n",
        "plt.loglog(rel_error,'o')\n",
        "plt.xlabel('number of timesteps N')\n",
        "plt.ylabel('relative error')\n",
        "plt.title('Truncation and roundoff error accumulation in log-log plot')"
      ]
    },
    {
      "cell_type": "code",
      "execution_count": null,
      "id": "c7bb6801",
      "metadata": {
        "id": "c7bb6801"
      },
      "outputs": [],
      "source": [
        ""
      ]
    }
  ],
  "metadata": {
    "jupytext": {
      "formats": "notebooks//ipynb,md:myst"
    },
    "kernelspec": {
      "display_name": "Python 3 (ipykernel)",
      "language": "python",
      "name": "python3"
    },
    "colab": {
      "name": "hyams_hw_1.ipynb",
      "provenance": [],
      "include_colab_link": true
    }
  },
  "nbformat": 4,
  "nbformat_minor": 5
}